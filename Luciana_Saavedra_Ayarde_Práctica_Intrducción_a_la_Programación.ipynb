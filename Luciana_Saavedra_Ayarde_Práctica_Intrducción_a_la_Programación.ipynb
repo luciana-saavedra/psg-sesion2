{
  "nbformat": 4,
  "nbformat_minor": 0,
  "metadata": {
    "colab": {
      "provenance": []
    },
    "kernelspec": {
      "name": "python3",
      "display_name": "Python 3"
    },
    "language_info": {
      "name": "python"
    }
  },
  "cells": [
    {
      "cell_type": "markdown",
      "source": [
        "Ejercicio 1\n",
        "Leer los coeficientes de una ecuación de segundo grado y mostrar sus soluciones reales,\n",
        "si no existen debe indicarlo."
      ],
      "metadata": {
        "id": "Dq8J0om_Ozvo"
      }
    },
    {
      "cell_type": "code",
      "execution_count": null,
      "metadata": {
        "colab": {
          "base_uri": "https://localhost:8080/"
        },
        "id": "pL7hRWdrNyVE",
        "outputId": "be6f4aba-bbfa-4951-eac3-7037cb52a065"
      },
      "outputs": [
        {
          "output_type": "stream",
          "name": "stdout",
          "text": [
            "ingrese el valor de a: 2\n",
            "ingrese el valor de b: 3\n",
            "ingrese el valor de c: 1\n",
            "las soluciones son -2.5 y -3.5\n"
          ]
        }
      ],
      "source": [
        "a,b,c=int(input(\"ingrese el valor de a: \")),int(input(\"ingrese el valor de b: \")),int(input(\"ingrese el valor de c: \"))\n",
        "aux=(b**2)-(4*a*c)\n",
        "if aux<0:\n",
        "    print(\"no existen soluciones reales\")\n",
        "else:\n",
        "      x1=-b+(b**2-4*a*c)**1/2 /2*a\n",
        "      x2=-b-(b**2-4*a*c)**1/2 /2*a\n",
        "      print(f\"las soluciones son {x1} y {x2}\")"
      ]
    },
    {
      "cell_type": "markdown",
      "source": [
        "Ejercicio 2 Leer dos números y verificar si uno es múltiplo del otro o no lo es"
      ],
      "metadata": {
        "id": "6UxfLHgo7Y_Y"
      }
    },
    {
      "cell_type": "code",
      "source": [
        "a,b=int(input(\"ingrese el valor de a: \")), int(input(\"ingrese el valor de b: \"))\n",
        "if a>b:\n",
        "  if a%b==0:\n",
        "   print(f\"{a} es múltiplo de {b}\")\n",
        "  else:\n",
        "   print(f\"{a} no es múltiplo de {b}\")\n",
        "else:\n",
        "  if b%a==0:\n",
        "   print(f\"{b} es múltiplo de {a}\")\n",
        "  else:\n",
        "   print(f\"{b} no es múltiplo de {a}\")"
      ],
      "metadata": {
        "colab": {
          "base_uri": "https://localhost:8080/"
        },
        "id": "OBzKhGNN7t8m",
        "outputId": "71578ca8-3286-45fa-c00f-c16216476ff4"
      },
      "execution_count": null,
      "outputs": [
        {
          "output_type": "stream",
          "name": "stdout",
          "text": [
            "ingrese el valor de a: 25\n",
            "ingrese el valor de b: 2\n",
            "25 no es múltiplo de 2\n"
          ]
        }
      ]
    },
    {
      "cell_type": "markdown",
      "source": [],
      "metadata": {
        "id": "-iWo1h0_Owuw"
      }
    },
    {
      "cell_type": "markdown",
      "source": [
        "Ejercicio 3 Leer tres números enteros y son distintos, mostrarlos ordenados de mayor a menor."
      ],
      "metadata": {
        "id": "EeLKTkHmFC1n"
      }
    },
    {
      "cell_type": "code",
      "source": [
        "print(\"ingrese tres números distintos\")\n",
        "a,b,c=int(input(\"ingrese el valor de a: \")),int(input(\"ingrese el valor de b: \")),int(input(\"ingrese el valor de c: \"))\n",
        "if a>b and b>c:\n",
        "  print(f\"{a} {b} {c}\")\n",
        "elif a>c and c>b:\n",
        "  print(f\"{a} {c} {b}\")\n",
        "elif b>a and a>c:\n",
        "  print(f\"{b} {a} {c}\")\n",
        "elif b>c and c>a:\n",
        "  print(f\"{b} {c} {a}\")"
      ],
      "metadata": {
        "colab": {
          "base_uri": "https://localhost:8080/"
        },
        "id": "KE_3cSfqFIyh",
        "outputId": "2c58e403-fe49-4942-a619-3eefb2787880"
      },
      "execution_count": null,
      "outputs": [
        {
          "output_type": "stream",
          "name": "stdout",
          "text": [
            "ingrese tres números distintos\n",
            "ingrese el valor de a: 2\n",
            "ingrese el valor de b: 3\n",
            "ingrese el valor de c: 1\n",
            "3 2 1\n"
          ]
        }
      ]
    },
    {
      "cell_type": "markdown",
      "source": [
        "Ejercicio 4  Leer un número entero y mostrar cuantos dígitos tiene"
      ],
      "metadata": {
        "id": "F2rtdvbRLke9"
      }
    },
    {
      "cell_type": "code",
      "source": [
        "n=int(input(\"ingrese un número: \"))\n",
        "cont=0\n",
        "aux=n\n",
        "while aux>0:\n",
        "   cont=cont+1\n",
        "   aux=aux//10\n",
        "if n==0:\n",
        "  print(\"el número tiene 1 dígito\")\n",
        "else:\n",
        " print(f\"el número {n} tiene {cont} dígitos\")"
      ],
      "metadata": {
        "colab": {
          "base_uri": "https://localhost:8080/"
        },
        "id": "iSVrL0wJLmOc",
        "outputId": "5ce6cc1c-799f-49e9-f486-109bced55877"
      },
      "execution_count": null,
      "outputs": [
        {
          "output_type": "stream",
          "name": "stdout",
          "text": [
            "ingrese un número: 1\n",
            "el número 1 tiene 1 dígitos\n"
          ]
        }
      ]
    },
    {
      "cell_type": "markdown",
      "source": [
        "Ejercicio 5 Leer un número entero y mostrarlo con las cifras al revés"
      ],
      "metadata": {
        "id": "yMPFcgkNVesN"
      }
    },
    {
      "cell_type": "code",
      "source": [
        "n=int(input(\"ingrese un número: \"))\n",
        "aux=n\n",
        "while aux!=0:\n",
        " print(aux%10, end=\"\")\n",
        " aux=aux//10"
      ],
      "metadata": {
        "id": "uNRGHNL3Vgle",
        "colab": {
          "base_uri": "https://localhost:8080/"
        },
        "outputId": "2e8e665a-db48-4c78-b03d-3f432bfa7bf0"
      },
      "execution_count": null,
      "outputs": [
        {
          "output_type": "stream",
          "name": "stdout",
          "text": [
            "ingrese un número: 453\n",
            "354"
          ]
        }
      ]
    },
    {
      "cell_type": "markdown",
      "source": [
        "Ejercicio 6 Leer dos fechas y mostrar el número de días que hay de diferencia. Suponiendo todos los\n",
        "meses de 30 días.\n",
        "<"
      ],
      "metadata": {
        "id": "voVp7UlI1ImY"
      }
    },
    {
      "cell_type": "code",
      "source": [
        "a,b=int(input(\"ingrese los días de la primer fecha: \")),int(input(\"ingrese los meses de la primer fecha: \"))\n",
        "aux=True\n",
        "if a>30 or b>12:\n",
        "  print(\"la primer fecha ingresada es inválida\")\n",
        "  aux==False\n",
        "\n",
        "else:\n",
        " c,d=int(input(\"ingrese los días de la segunda fecha: \")),int(input(\"ingrese los meses de la segunda fecha: \"))\n",
        " if c>12 or d>12:\n",
        "    print(\"la segunda fecha ingresada es inválida\")\n",
        "    aux==False\n",
        " else:\n",
        "    e,f=int(input(\"ingrese los años de la primer fecha: \")),int(input(\"ingrese los años de la segunda fecha: \"))\n",
        "    if a>c and b>d:\n",
        "     dias=a-c\n",
        "     meses=(b-d)*30\n",
        "    else:\n",
        "     dias=c-a\n",
        "     meses=(d-b)*30\n",
        "\n",
        "años=0\n",
        "if e>f:\n",
        "   años=(e-f)*360\n",
        "else:\n",
        "   años=(f-e)*360\n",
        "\n",
        "dif= dias + meses + años\n",
        "print(f\"la diferencia entre las dos fechas es {dif} días\")"
      ],
      "metadata": {
        "colab": {
          "base_uri": "https://localhost:8080/"
        },
        "id": "3pH6BEkw1KX8",
        "outputId": "ad24d818-2f23-42ef-bcb3-2a2104841973"
      },
      "execution_count": null,
      "outputs": [
        {
          "output_type": "stream",
          "name": "stdout",
          "text": [
            "ingrese los días de la primer fecha: 2\n",
            "ingrese los meses de la primer fecha: 3\n",
            "ingrese los días de la segunda fecha: 2\n",
            "ingrese los meses de la segunda fecha: 4\n",
            "ingrese los años de la primer fecha: 2025\n",
            "ingrese los años de la segunda fecha: 2025\n",
            "la diferencia entre las dos fechas es 30 días\n"
          ]
        }
      ]
    },
    {
      "cell_type": "markdown",
      "source": [
        "Ejercicio 8 Un supermercado decide efectuar una promoción de descuentos por el valor de las\n",
        "compras que efectúan sus clientes, esta promoción se basa en las siguientes condiciones:\n",
        " Si el total de ventas es < 100 Bs. no se aplica ningún descuento\n",
        " Si el total de ventas es de 100 Bs o más se aplica un 5% de descuento\n",
        " Si el total de ventas es 500 Bs o más se aplica un 8% de descuento\n",
        "Leer las compras efectuadas por n clientes y aplicar los descuentos para obtener el total de\n",
        "ventas efectuadas y el total de ventas con el descuento respectivo."
      ],
      "metadata": {
        "id": "usnLNCpMBPnI"
      }
    },
    {
      "cell_type": "code",
      "source": [
        "total=int(input(\"ingrese el total de la compra: \"))\n",
        "if total <100:\n",
        " print(\"no se aplica ningún descuento\")\n",
        "else:\n",
        "  if total>=100 and total<500:\n",
        "   descuento=total-(total*0.05)\n",
        "   print(f\"el nuevo total a pagar es de {descuento}\")\n",
        "  else:\n",
        "    if total>=500:\n",
        "     descuento=total-(total*0.08)\n",
        "     print(f\"el nuevo total a pagar es de {descuento}\")"
      ],
      "metadata": {
        "colab": {
          "base_uri": "https://localhost:8080/"
        },
        "id": "HyAeoj6pBV0p",
        "outputId": "ca2df169-7699-4b65-da32-6616785d3166"
      },
      "execution_count": null,
      "outputs": [
        {
          "output_type": "stream",
          "name": "stdout",
          "text": [
            "ingrese el total de la compra: 900\n",
            "el nuevo total a pagar es de 828.0\n"
          ]
        }
      ]
    },
    {
      "cell_type": "markdown",
      "source": [
        "Ejercicio 9 Pedir números enteros hasta que se digite un 0, mostrar la suma de todos los números\n",
        "introducidos.\n",
        "\n"
      ],
      "metadata": {
        "id": "mqa7ItBgDeA3"
      }
    },
    {
      "cell_type": "code",
      "source": [
        "num=int(input(\"ingrese un número: \"))\n",
        "suma=0\n",
        "while num!=0:\n",
        " suma=suma+num\n",
        " num=int(input(\"ingrese un número: \"))\n",
        "print(f\"la suma de los número ingresados es {suma}\")"
      ],
      "metadata": {
        "colab": {
          "base_uri": "https://localhost:8080/"
        },
        "id": "pK44dj4cDjba",
        "outputId": "8f75d16e-f5ba-43af-efb3-b03ce94309f7"
      },
      "execution_count": null,
      "outputs": [
        {
          "output_type": "stream",
          "name": "stdout",
          "text": [
            "ingrese un número: 5\n",
            "ingrese un número: 6\n",
            "ingrese un número: 10\n",
            "ingrese un número: 20\n",
            "ingrese un número: 30\n",
            "ingrese un número: 0\n",
            "la suma de los número ingresados es 71\n"
          ]
        }
      ]
    },
    {
      "cell_type": "markdown",
      "source": [
        "Ejercicio 10 Dadas las edades y alturas de n alumnos, mostrar la edad y la estatura media, la cantidad\n",
        "de alumnos mayores de 18 años, y la cantidad de alumnos que miden más de 1.75 cm"
      ],
      "metadata": {
        "id": "16cmBFLxr0It"
      }
    },
    {
      "cell_type": "code",
      "source": [
        "n=int(input(\"ingrese la cantidad de alumnos: \"))\n",
        "\n",
        "med_alt=0\n",
        "med_edad=0\n",
        "\n",
        "edad_mayores=0\n",
        "alt_mayor=0\n",
        "\n",
        "total_edad=0\n",
        "total_altura=0\n",
        "\n",
        "for i in range (n):\n",
        "  edad=int(input(\"ingrese la edad del alumno: \"))\n",
        "  altura=float(input(\"ingrese la altura del alumno: \"))\n",
        "\n",
        "  total_edad=total_edad+edad\n",
        "  total_altura=total_altura+altura\n",
        "\n",
        "  if edad>18:\n",
        "    edad_mayores=edad_mayores+1\n",
        "  if altura>1.75:\n",
        "    alt_mayor=alt_mayor+1\n",
        "\n",
        "med_edad=total_edad/n\n",
        "med_alt=total_altura/n\n",
        "print(f\"la media de las edades es {med_edad} y la media de las alturas es {med_alt}\")\n",
        "\n",
        "print(f\"la cantidad de estudiantes mayores de 18 es {edad_mayores}\")\n",
        "print(f\"la cantidad de estudiantes con una estatura mayor a 1.75 es {alt_mayor}\")"
      ],
      "metadata": {
        "colab": {
          "base_uri": "https://localhost:8080/"
        },
        "id": "VAnH4h0Afu5A",
        "outputId": "4d9b666b-e432-4997-b5ce-898eed347624"
      },
      "execution_count": null,
      "outputs": [
        {
          "output_type": "stream",
          "name": "stdout",
          "text": [
            "ingrese la cantidad de alumnos: 3\n",
            "ingrese la edad del alumno: 15\n",
            "ingrese la altura del alumno: 1.56\n",
            "ingrese la edad del alumno: 19\n",
            "ingrese la altura del alumno: 1.89\n",
            "ingrese la edad del alumno: 12\n",
            "ingrese la altura del alumno: 1.90\n",
            "la media de las edades es 15.333333333333334 y la media de las alturas es 1.7833333333333332\n",
            "la cantidad de estudiantes mayores de 18 es 1\n",
            "la cantidad de estudiantes con una estatura mayor a 1.75 es 2\n"
          ]
        }
      ]
    },
    {
      "cell_type": "markdown",
      "source": [
        "51: Genere la siguiente tabla:\n",
        "1\n",
        "2 4\n",
        "3 6 9\n",
        "4 8 12 16\n",
        "5 10 15 20 25\n",
        "6 12 18 24 30 36"
      ],
      "metadata": {
        "id": "tdcmxuaDqLnG"
      }
    },
    {
      "cell_type": "code",
      "source": [
        "n=int(input(\"ingrese el número de filas y columnas: \"))\n",
        "for i in range (n):\n",
        " for j in range (i+1):\n",
        "   print((i+1)*(j+1), end=\" \")\n",
        " print(\" \")"
      ],
      "metadata": {
        "colab": {
          "base_uri": "https://localhost:8080/"
        },
        "id": "5V-QaIJ3qMBZ",
        "outputId": "10f835d0-8001-4c38-9e59-53f524d6e15c"
      },
      "execution_count": null,
      "outputs": [
        {
          "output_type": "stream",
          "name": "stdout",
          "text": [
            "ingrese el número de filas y columnas: 6\n",
            "1  \n",
            "2 4  \n",
            "3 6 9  \n",
            "4 8 12 16  \n",
            "5 10 15 20 25  \n",
            "6 12 18 24 30 36  \n"
          ]
        }
      ]
    },
    {
      "cell_type": "markdown",
      "source": [
        "61\n"
      ],
      "metadata": {
        "id": "93TTZmTO2-C4"
      }
    },
    {
      "cell_type": "code",
      "source": [
        "n=int(input(\"ingrese el número: \"))\n",
        "num=n\n",
        "mayor=0\n",
        "while num>0:\n",
        "  aux=num%10\n",
        "  if aux>mayor:\n",
        "    mayor=aux\n",
        "  num=num//10\n",
        "for i in range (mayor):\n",
        "  for j in range (mayor):\n",
        "    if (i==0 or i==mayor-1) or (j==0 or j==mayor-1):\n",
        "     print(mayor,end=\"\")\n",
        "    else:\n",
        "      print(\"0\", end=\"\")\n",
        "  print(\" \")"
      ],
      "metadata": {
        "id": "sSqp-1Lm3HE6",
        "colab": {
          "base_uri": "https://localhost:8080/"
        },
        "outputId": "e9d47039-72d6-4f38-a12d-3443f9d641b3"
      },
      "execution_count": null,
      "outputs": [
        {
          "output_type": "stream",
          "name": "stdout",
          "text": [
            "ingrese el número: 789\n",
            "999999999 \n",
            "900000009 \n",
            "900000009 \n",
            "900000009 \n",
            "900000009 \n",
            "900000009 \n",
            "900000009 \n",
            "900000009 \n",
            "999999999 \n"
          ]
        }
      ]
    },
    {
      "cell_type": "code",
      "source": [
        "n=int(input(\"ingrese el número del que desee conocer el factorial: \"))\n",
        "factorial=1\n",
        "cont=1\n",
        "while cont<=n:\n",
        " factorial=factorial*cont\n",
        " cont=cont+1\n",
        "print(factorial)"
      ],
      "metadata": {
        "colab": {
          "base_uri": "https://localhost:8080/"
        },
        "id": "v9Z9-1gixLf0",
        "outputId": "a7a3f75e-4175-4773-aaa6-8990a6936687"
      },
      "execution_count": null,
      "outputs": [
        {
          "output_type": "stream",
          "name": "stdout",
          "text": [
            "ingrese el número del que desee conocer el factorial: 4\n",
            "24\n"
          ]
        }
      ]
    },
    {
      "cell_type": "code",
      "source": [
        "n=int(input(\"ingrese el número: \"))\n",
        "if n%2==0:\n",
        " num=n*(-1)\n",
        "else: num=n\n",
        "print(num)"
      ],
      "metadata": {
        "colab": {
          "base_uri": "https://localhost:8080/"
        },
        "id": "Kx-M8Wd8yJq_",
        "outputId": "145b86cc-446c-4dac-bf6e-839f5e7ef002"
      },
      "execution_count": null,
      "outputs": [
        {
          "output_type": "stream",
          "name": "stdout",
          "text": [
            "ingrese el número: 4\n",
            "-4\n"
          ]
        }
      ]
    },
    {
      "cell_type": "code",
      "source": [
        "n=int(input(\"ingrese el número: \"))\n",
        "aux=1\n",
        "i=1\n",
        "suma=0\n",
        "while i<=n:\n",
        "  factorial=1\n",
        "  cont=1\n",
        "  while cont<=aux:\n",
        "    factorial=factorial*cont\n",
        "    cont=cont+1\n",
        "  if i%2==0:\n",
        "    suma=suma-(aux/factorial)\n",
        "  else:\n",
        "    suma=suma+(aux/factorial)\n",
        "  aux=aux+2\n",
        "  i=i+1\n",
        "print(suma)"
      ],
      "metadata": {
        "colab": {
          "base_uri": "https://localhost:8080/"
        },
        "id": "RPyVeVmivt1g",
        "outputId": "0e9c2443-c6bb-4b62-aa1f-72766aedfbfe"
      },
      "execution_count": null,
      "outputs": [
        {
          "output_type": "stream",
          "name": "stdout",
          "text": [
            "ingrese el número: 2\n",
            "0.5\n"
          ]
        }
      ]
    },
    {
      "cell_type": "markdown",
      "source": [
        "multiplicación con sumas"
      ],
      "metadata": {
        "id": "CTa4hktUDaMp"
      }
    },
    {
      "cell_type": "code",
      "source": [
        "a,b=int(input(\"ingrese el valor de a: \")),int(input(\"ingrese el valor de b: \"))\n",
        "resultado=0\n",
        "for i in range (a):\n",
        "  resultado=resultado+b\n",
        "print(resultado)"
      ],
      "metadata": {
        "id": "gNJJvefKLQ3E",
        "colab": {
          "base_uri": "https://localhost:8080/"
        },
        "outputId": "cdc0eb8a-b24e-4140-be66-bf87656e6e7b"
      },
      "execution_count": null,
      "outputs": [
        {
          "output_type": "stream",
          "name": "stdout",
          "text": [
            "ingrese el valor de a: 4\n",
            "ingrese el valor de b: 2\n",
            "8\n"
          ]
        }
      ]
    },
    {
      "cell_type": "code",
      "source": [
        "multi con sumas"
      ],
      "metadata": {
        "id": "yK2Gv-Gc-PIg"
      },
      "execution_count": null,
      "outputs": []
    },
    {
      "cell_type": "code",
      "source": [
        "a,b=int(input(\"ingrese el valor de a: \")),int(input(\"ingrese el valor de b: \"))\n",
        "resultado=0\n",
        "cont=1\n",
        "while cont<=a:\n",
        "  resultado=resultado+b\n",
        "  cont=cont+1\n",
        "print(resultado)"
      ],
      "metadata": {
        "colab": {
          "base_uri": "https://localhost:8080/"
        },
        "id": "41teRHzGEDKV",
        "outputId": "6bfdd91d-8373-4144-e765-1b0e718f426f"
      },
      "execution_count": null,
      "outputs": [
        {
          "output_type": "stream",
          "name": "stdout",
          "text": [
            "ingrese el valor de a: 25\n",
            "ingrese el valor de b: 3\n",
            "75\n"
          ]
        }
      ]
    },
    {
      "cell_type": "markdown",
      "source": [
        "div son restas sucesivas"
      ],
      "metadata": {
        "id": "ci6ecEwKsYZG"
      }
    },
    {
      "cell_type": "code",
      "source": [
        "dividendo,divisor=int(input(\"ingrese el valor de a: \")),int(input(\"ingrese el valor de b: \"))\n",
        "resultado=0\n",
        "resto=dividendo\n",
        "while resto>=divisor:\n",
        "  resto=resto-divisor\n",
        "  resultado=resultado+1\n",
        "\n",
        "print(resultado)\n",
        "print(resto)"
      ],
      "metadata": {
        "colab": {
          "base_uri": "https://localhost:8080/"
        },
        "id": "kakXrYiHsXuq",
        "outputId": "f9ec74cc-c50c-425c-e546-3e08b6f7604f"
      },
      "execution_count": null,
      "outputs": [
        {
          "output_type": "stream",
          "name": "stdout",
          "text": [
            "ingrese el valor de a: 9\n",
            "ingrese el valor de b: 2\n",
            "4\n",
            "1\n"
          ]
        }
      ]
    },
    {
      "cell_type": "markdown",
      "source": [
        "7. Generar la secuencia: 1, 1, 2, 4, 8, 16, 23, 28, 38, 49,..., para n términos"
      ],
      "metadata": {
        "id": "rFrDKIP4FiVs"
      }
    },
    {
      "cell_type": "code",
      "source": [
        "n=int(input(\"ingrese el número de términos que desea obtener: \"))\n",
        "a=1\n",
        "b=0\n",
        "for i in range (n):\n",
        "  print(a, end=\",\")\n",
        "  aux=a+b\n",
        "  a=aux\n",
        "  b=a\n",
        "print(aux, end=\",\")\n"
      ],
      "metadata": {
        "id": "YjgSjx_6Eww8",
        "colab": {
          "base_uri": "https://localhost:8080/"
        },
        "outputId": "ac1165c8-0f57-4ee7-810b-6c05eaff565f"
      },
      "execution_count": null,
      "outputs": [
        {
          "output_type": "stream",
          "name": "stdout",
          "text": [
            "ingrese el número de términos que desea obtener: 9\n",
            "1,1,2,4,8,16,32,64,128,256,"
          ]
        }
      ]
    },
    {
      "cell_type": "markdown",
      "source": [
        "Fibonacci"
      ],
      "metadata": {
        "id": "9l_OCbp69-9N"
      }
    },
    {
      "cell_type": "code",
      "source": [
        "n=int(input(\"ingrese el número de términos que desea obtener: \"))\n",
        "a=0\n",
        "b=1\n",
        "for i in range (n):\n",
        "  print(b, end=\",\")\n",
        "  c=a+b\n",
        "  a=b\n",
        "  b=c\n",
        "print(c, end=\",\")"
      ],
      "metadata": {
        "colab": {
          "base_uri": "https://localhost:8080/"
        },
        "id": "mcTgRw3g84m6",
        "outputId": "979091f4-8772-4f05-8fa1-e8e6fc268347"
      },
      "execution_count": null,
      "outputs": [
        {
          "output_type": "stream",
          "name": "stdout",
          "text": [
            "ingrese el número de términos que desea obtener: 6\n",
            "1,1,2,3,5,8,13,"
          ]
        }
      ]
    },
    {
      "cell_type": "code",
      "source": [
        "n=int(input(\"ingrese el número: \"))\n",
        "invertido=0\n",
        "aux=n\n",
        "while aux>0:\n",
        "  num=aux%10\n",
        "  invertido=invertido*10+num\n",
        "  aux=aux//10\n",
        "print(invertido)"
      ],
      "metadata": {
        "colab": {
          "base_uri": "https://localhost:8080/"
        },
        "id": "VAi4PoiaU07V",
        "outputId": "b29264a9-2c9c-4103-99fb-83898a64f8b8"
      },
      "execution_count": null,
      "outputs": [
        {
          "output_type": "stream",
          "name": "stdout",
          "text": [
            "ingrese el número: 899\n",
            "998\n"
          ]
        }
      ]
    },
    {
      "cell_type": "markdown",
      "source": [
        "11. factorial con sumas"
      ],
      "metadata": {
        "id": "cIKgoQ3SZakG"
      }
    },
    {
      "cell_type": "code",
      "source": [
        "n=int(input(\"ingrese el número del que desea conocer el factorial: \"))\n",
        "resultado=1\n",
        "i=2\n",
        "while i<=n:\n",
        "  j=0\n",
        "  aux=0\n",
        "  while j<i:\n",
        "    aux=aux+resultado\n",
        "    j=j+1\n",
        "  resultado=aux\n",
        "  i=i+1\n",
        "print(resultado)"
      ],
      "metadata": {
        "colab": {
          "base_uri": "https://localhost:8080/"
        },
        "id": "wDkZ6EUWZaHS",
        "outputId": "5ea788cf-5694-41f5-8fcf-c42d3367b0b5"
      },
      "execution_count": null,
      "outputs": [
        {
          "output_type": "stream",
          "name": "stdout",
          "text": [
            "ingrese el número del que desea conocer el factorial: 3\n",
            "6\n"
          ]
        }
      ]
    },
    {
      "cell_type": "code",
      "source": [],
      "metadata": {
        "id": "WfIhAyHcoMLv"
      },
      "execution_count": null,
      "outputs": []
    },
    {
      "cell_type": "code",
      "source": [
        "n=int(input(\"ingrese el número de términos que desea ver: \"))\n",
        "a=0\n",
        "b=1\n",
        "for i in range (n):\n",
        "  aux=a+b\n",
        "  print(aux, end=\",\")\n",
        "  b=a\n",
        "  a=aux"
      ],
      "metadata": {
        "colab": {
          "base_uri": "https://localhost:8080/"
        },
        "id": "gGVlXB-ikodW",
        "outputId": "e12a229e-08e6-4aef-83ca-27f902d725d1"
      },
      "execution_count": null,
      "outputs": [
        {
          "output_type": "stream",
          "name": "stdout",
          "text": [
            "ingrese el número de términos que desea ver: 10\n",
            "1,1,2,3,5,8,13,21,34,55,"
          ]
        }
      ]
    },
    {
      "cell_type": "markdown",
      "source": [
        "34. Generar las secuencias:\n",
        "\n",
        "  1 2 3 4 …………..n\n",
        "  1 2 3 4….. n-1\n",
        "  1 2 3 …...n-2\n",
        "  ……..\n",
        "  1"
      ],
      "metadata": {
        "id": "BfOqNcRrA6Yg"
      }
    },
    {
      "cell_type": "code",
      "source": [
        "n=int(input(\"ingrese el orden de la matriz: \"))\n",
        "for i in range (n,0,-1):\n",
        "  for j in range (i):\n",
        "    print(j+1, end=\" \")\n",
        "  print(\" \")"
      ],
      "metadata": {
        "id": "rtt-yoSwymuq",
        "colab": {
          "base_uri": "https://localhost:8080/"
        },
        "outputId": "144edfd3-c990-44f4-d332-8dc8770ffcbb"
      },
      "execution_count": null,
      "outputs": [
        {
          "output_type": "stream",
          "name": "stdout",
          "text": [
            "ingrese el orden de la matriz: 5\n",
            "1 2 3 4 5  \n",
            "1 2 3 4  \n",
            "1 2 3  \n",
            "1 2  \n",
            "1  \n"
          ]
        }
      ]
    },
    {
      "cell_type": "markdown",
      "source": [
        "cambios 13"
      ],
      "metadata": {
        "id": "MSoh7t-qhfTh"
      }
    },
    {
      "cell_type": "code",
      "source": [
        "precio=float(input(\"ingrese el precio del producto: \"))\n",
        "monto_ingresado=float(input(\"ingrese el monto de dinero con el que pagará: \"))\n",
        "cambio_1=5\n",
        "cambio_2=1\n",
        "cambio_3=0.50\n",
        "cambio_4=0.20\n",
        "cambio_5=0.10\n",
        "cant_5=0\n",
        "cant_1=0\n",
        "cant_50=0\n",
        "cant_20=0\n",
        "cant_10=0\n",
        "cambio=monto_ingresado-precio\n",
        "if cambio>=5: #< >\n",
        "    cant_5=cambio//5\n",
        "    mod5=cambio%5\n",
        "    if mod5>0 and mod5>=1:\n",
        "        cant_1=mod5//1\n",
        "        mod1=mod5%1\n",
        "    else:\n",
        "      if mod1>0 and mod1>=0.5:\n",
        "            cant_50=mod1//0.5\n",
        "            mod50=mod1%0.5\n",
        "      else:\n",
        "        if mod50>0 and mod50>=0.2:\n",
        "                cant_20=mod50//0.2\n",
        "                mod20=mod50%0.2\n",
        "        else:\n",
        "          if mod20>0 and mod20>=0.1:\n",
        "                    cant_10=mod20//0.1\n",
        "                    mod10=mod20%0.1\n",
        "else:\n",
        "  if cambio>=1:\n",
        "        cant_1=cambio//1\n",
        "        mod1=cambio%1\n",
        "        if mod1>0 and mod1>=0.5:\n",
        "            cant_50=mod1//0.5\n",
        "            mod50=mod1%0.5\n",
        "        else:\n",
        "          if mod50>0 and mod50>=0.2:\n",
        "                cant_20=mod50//0.2\n",
        "                mod20=mod50%0.2\n",
        "          else:\n",
        "            if mod20>0 and mod20>=0.1:\n",
        "                    cant_10=mod20//0.1\n",
        "                    mod10=mod20%0.1\n",
        "  else:\n",
        "      if cambio>=0.50:\n",
        "        cant_50=cambio//0.5\n",
        "        mod50=cambio%0.5\n",
        "        if mod50>0 and mod50>=0.2:\n",
        "          cant_20=mod50//0.2\n",
        "          mod20=mod50%0.2\n",
        "        else:\n",
        "          if mod20>0 and mod20>=0.1:\n",
        "                    cant_10=mod20//0.1\n",
        "                    mod10=mod20%0.1\n",
        "      else:\n",
        "        if cambio>=0.20:\n",
        "          cant_20=cambio//0.2\n",
        "          mod20=cambio%0.2\n",
        "          if mod20>0 and mod20>=0.1:\n",
        "                    cant_10=mod20//0.1\n",
        "                    mod10=mod20%0.1\n",
        "        else:\n",
        "          if cambio>=0.10:\n",
        "            cant_10=cambio//0.1\n",
        "            mod10=cambio%0.1\n",
        "          else:\n",
        "            print(\"no hay cambio\")\n",
        "\n",
        "print(f\"El cambio es: {cambio} y se darán {int(cant_5)} monedas de 5bs, {int(cant_1)} monedas de 1bs, {int(cant_50)} monedas de 0.50bs, {int(cant_20)} monedas de 0.20bs, {int(cant_10)} monedas de 0.10bs\")"
      ],
      "metadata": {
        "colab": {
          "base_uri": "https://localhost:8080/"
        },
        "id": "iErlGSZvhioI",
        "outputId": "07646182-96f2-4166-e040-07bec7913e72"
      },
      "execution_count": null,
      "outputs": [
        {
          "output_type": "stream",
          "name": "stdout",
          "text": [
            "ingrese el precio del producto: 63.7\n",
            "ingrese el monto de dinero con el que pagará: 100\n",
            "El cambio es: 36.3 y se darán 7 monedas de 5bs, 1 monedas de 1bs, 0 monedas de 0.50bs, 0 monedas de 0.20bs, 0 monedas de 0.10bs\n"
          ]
        }
      ]
    },
    {
      "cell_type": "code",
      "source": [
        "n=int(input(\"ingrese un número: \"))\n",
        "suma=0\n",
        "while n!=1:\n",
        "  suma+=n\n",
        "  n=int(input(\"ingrese un número: \"))\n",
        "print(suma)"
      ],
      "metadata": {
        "id": "7tLIT3tmCVhs"
      },
      "execution_count": null,
      "outputs": []
    },
    {
      "cell_type": "markdown",
      "source": [
        "matriz random ⚛"
      ],
      "metadata": {
        "id": "xeEeE8gtbKh2"
      }
    },
    {
      "cell_type": "code",
      "source": [
        "from random import randint\n",
        "m = []\n",
        "x = int(input())\n",
        "for i in range (x):\n",
        "    fila = []\n",
        "    for j in range (x):\n",
        "        r = randint(1,20)\n",
        "        fila.append(r)\n",
        "    m.append(fila)\n",
        "for i in m:\n",
        "    print(i)"
      ],
      "metadata": {
        "id": "O2iwMjiVbJZG"
      },
      "execution_count": null,
      "outputs": []
    },
    {
      "cell_type": "code",
      "source": [
        "while True:\n",
        "    try:\n",
        "        #Solicitar primer número o salir\n",
        "        num1 = input(\"Ingresa el primer número (o 'salir' para terminar): \")\n",
        "        if num1.lower() == \"salir\":\n",
        "          print (\"el programa finalizo\")\n",
        "          break\n",
        "\n",
        "        #Solicitar segundo número o salir\n",
        "        num2 = input(\"Ingresa el segundo número (o 'salir' para terminar): \")\n",
        "        if num2.lower() == \"salir\":\n",
        "          print (\"el programa finalizo\")\n",
        "          break\n",
        "\n",
        "        #Convertir los datos a float\n",
        "        num1 = float(num1)\n",
        "        num2 = float(num2)\n",
        "\n",
        "        #Operaciones matemáticas\n",
        "        print(f\"Suma: {num1 + num2}\")\n",
        "        print(f\"Resta: {num1 - num2}\")\n",
        "        print(f\"Multiplicación: {num1 * num2}\")\n",
        "\n",
        "        #División con manejo de división por cero\n",
        "        try:\n",
        "            print(f\"División: {num1 / num2}\")\n",
        "        except ZeroDivisionError:\n",
        "            print(\"Error!: No se puede dividir entre cero.\")\n",
        "\n",
        "    #Manejo de error por dato no numérico\n",
        "    except ValueError:\n",
        "        print(\"Error!: Debes ingresar valores numéricos.\")\n",
        "    #Manejo de errores inesperados\n",
        "    except Exception as error:\n",
        "        print(f\"⚠️ Error inesperado: {error}\")"
      ],
      "metadata": {
        "colab": {
          "base_uri": "https://localhost:8080/"
        },
        "id": "f4h8bzwgrvu5",
        "outputId": "4a51e648-2e8d-486b-c3c2-6dbec0bd4a98"
      },
      "execution_count": null,
      "outputs": [
        {
          "output_type": "stream",
          "name": "stdout",
          "text": [
            "Ingresa el primer número (o 'salir' para terminar): 4\n",
            "Ingresa el segundo número (o 'salir' para terminar): 2\n",
            "Suma: 6.0\n",
            "Resta: 2.0\n",
            "Multiplicación: 8.0\n",
            "División: 2.0\n",
            "Ingresa el primer número (o 'salir' para terminar): salir\n",
            "el programa finalizo\n"
          ]
        }
      ]
    },
    {
      "cell_type": "code",
      "source": [
        "#Excepción para frutas no permitidas\n",
        "class FrutaNoPermitidaError(Exception):\n",
        "    pass\n",
        "\n",
        "#Lista de frutas permitidas\n",
        "frutas_permitidas = [\"🍅\", \"🍇\", \"🍈\", \"🍉\", \"🍊\", \"🍌\", \"🍍\", \"🍑\"]\n",
        "\n",
        "#Lista para almacenar frutas ingresadas\n",
        "canasta = []\n",
        "\n",
        "while True:\n",
        "    #Solicitar fruta o salir\n",
        "    fruta = input(\"Ingresa una fruta (o 'salir' para terminar): \")\n",
        "    if fruta.lower() == \"salir\":\n",
        "        print(\"programa finalizado\")\n",
        "        break\n",
        "\n",
        "    try:\n",
        "        #Verificar si la fruta está permitida\n",
        "        if fruta not in frutas_permitidas:\n",
        "            raise FrutaNoPermitidaError(f\"'{fruta}' no es una fruta permitida.\")\n",
        "\n",
        "        #Agregar fruta a la canasta\n",
        "        canasta.append(fruta)\n",
        "        print(f\"{fruta} añadida a la canasta.\")\n",
        "\n",
        "    #Manejo de fruta no permitida\n",
        "    except FrutaNoPermitidaError as error:\n",
        "        print(error)\n",
        "\n",
        "#Mostrar canasta final\n",
        "print(\"\\n Canasta final:\", canasta)\n"
      ],
      "metadata": {
        "colab": {
          "base_uri": "https://localhost:8080/"
        },
        "id": "jy9_ydUNtEuE",
        "outputId": "400c5d28-5cab-4548-f17c-181a3d7693aa"
      },
      "execution_count": null,
      "outputs": [
        {
          "output_type": "stream",
          "name": "stdout",
          "text": [
            "Ingresa una fruta (o 'salir' para terminar): 🥑\n",
            "'🥑' no es una fruta permitida.\n",
            "Ingresa una fruta (o 'salir' para terminar): 🍅\n",
            "🍅 añadida a la canasta.\n",
            "Ingresa una fruta (o 'salir' para terminar): 🍉\n",
            "🍉 añadida a la canasta.\n",
            "Ingresa una fruta (o 'salir' para terminar): 🍇\n",
            "🍇 añadida a la canasta.\n",
            "Ingresa una fruta (o 'salir' para terminar): 🍈\n",
            "🍈 añadida a la canasta.\n",
            "Ingresa una fruta (o 'salir' para terminar): salir\n",
            "programa finalizado\n",
            "\n",
            " Canasta final: ['🍅', '🍉', '🍇', '🍈']\n"
          ]
        }
      ]
    },
    {
      "cell_type": "code",
      "source": [
        "#Excepción para fondos insuficientes\n",
        "class FondosInsuficientesError(Exception):\n",
        "    pass\n",
        "\n",
        "#Saldo inicial disponible\n",
        "saldo_disponible = 5000\n",
        "\n",
        "while True:\n",
        "    try:\n",
        "        #Solicitar monto a retirar o salir\n",
        "        monto = input(\"Ingrese el monto a retirar (o 'salir' para terminar): \")\n",
        "        if monto.lower() == \"salir\":\n",
        "            print(\"programa finalizado\")\n",
        "            break\n",
        "\n",
        "        #Convertir monto a float\n",
        "        monto = float(monto)\n",
        "\n",
        "        #Verificar que el monto sea positivo\n",
        "        if monto <= 0:\n",
        "            raise Exception(\"⚠️ El monto debe ser mayor que 0.\")\n",
        "\n",
        "        #Verificar si hay fondos suficientes\n",
        "        if monto > saldo_disponible:\n",
        "            raise FondosInsuficientesError(\"❌ No hay fondos suficientes.\")\n",
        "\n",
        "        #Verificar límite de retiro\n",
        "        if monto > 1000:\n",
        "            raise Exception(\"⚠️ El monto excede el límite de 1000 por transacción.\")\n",
        "\n",
        "        #Realizar el retiro y mostrar saldo\n",
        "        saldo_disponible -= monto\n",
        "        print(f\"✅ Retiro exitoso. Saldo restante: {saldo_disponible}\")\n",
        "\n",
        "    #Manejo de fondos insuficientes\n",
        "    except FondosInsuficientesError as error:\n",
        "        print(error)\n",
        "    #Manejo de valor inválido\n",
        "    except ValueError:\n",
        "        print(\"Debes ingresar un número válido!11\")\n",
        "    #Manejo de otros errores\n",
        "    except Exception as error:\n",
        "        print(error)"
      ],
      "metadata": {
        "colab": {
          "base_uri": "https://localhost:8080/"
        },
        "id": "2-UOJDsluTpA",
        "outputId": "209ca07e-d5d9-49a5-bdca-87ced964aedd"
      },
      "execution_count": null,
      "outputs": [
        {
          "output_type": "stream",
          "name": "stdout",
          "text": [
            "Ingrese el monto a retirar (o 'salir' para terminar): -234\n",
            "⚠️ El monto debe ser mayor que 0.\n",
            "Ingrese el monto a retirar (o 'salir' para terminar): 233\n",
            "✅ Retiro exitoso. Saldo restante: 4767.0\n",
            "Ingrese el monto a retirar (o 'salir' para terminar): 9004\n",
            "❌ No hay fondos suficientes.\n",
            "Ingrese el monto a retirar (o 'salir' para terminar): 337\n",
            "✅ Retiro exitoso. Saldo restante: 4430.0\n",
            "Ingrese el monto a retirar (o 'salir' para terminar): 2983\n",
            "⚠️ El monto excede el límite de 1000 por transacción.\n",
            "Ingrese el monto a retirar (o 'salir' para terminar): 922\n",
            "✅ Retiro exitoso. Saldo restante: 3508.0\n",
            "Ingrese el monto a retirar (o 'salir' para terminar): 293\n",
            "✅ Retiro exitoso. Saldo restante: 3215.0\n",
            "Ingrese el monto a retirar (o 'salir' para terminar): 2399\n",
            "⚠️ El monto excede el límite de 1000 por transacción.\n",
            "Ingrese el monto a retirar (o 'salir' para terminar): 298\n",
            "✅ Retiro exitoso. Saldo restante: 2917.0\n",
            "Ingrese el monto a retirar (o 'salir' para terminar): 23939\n",
            "❌ No hay fondos suficientes.\n",
            "Ingrese el monto a retirar (o 'salir' para terminar): salir\n",
            "programa finalizado\n"
          ]
        }
      ]
    }
  ]
}